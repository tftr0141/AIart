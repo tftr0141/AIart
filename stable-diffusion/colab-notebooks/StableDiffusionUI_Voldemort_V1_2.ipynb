{
  "nbformat": 4,
  "nbformat_minor": 0,
  "metadata": {
    "colab": {
      "provenance": [],
      "collapsed_sections": [
        "DcXB3kBMoLwZ",
        "UqEsCGrPnYBf",
        "9qrpRUJpno7L"
      ],
      "include_colab_link": true
    },
    "kernelspec": {
      "name": "python3",
      "display_name": "Python 3"
    },
    "language_info": {
      "name": "python"
    },
    "accelerator": "GPU",
    "gpuClass": "standard"
  },
  "cells": [
    {
      "cell_type": "markdown",
      "metadata": {
        "id": "view-in-github",
        "colab_type": "text"
      },
      "source": [
        "<a href=\"https://colab.research.google.com/github/tftr0141/AIart/blob/main/stable-diffusion/colab-notebooks/StableDiffusionUI_Voldemort_V1_2.ipynb\" target=\"_parent\"><img src=\"https://colab.research.google.com/assets/colab-badge.svg\" alt=\"Open In Colab\"/></a>"
      ]
    },
    {
      "cell_type": "markdown",
      "source": [
        "Adapted from: https://colab.research.google.com/drive/1AfAmwLMd_Vx33O9IwY2TmO9wKZ8ABRRa"
      ],
      "metadata": {
        "id": "gfKvWAVnz8OB"
      }
    },
    {
      "cell_type": "markdown",
      "source": [
        "# Start"
      ],
      "metadata": {
        "id": "DcXB3kBMoLwZ"
      }
    },
    {
      "cell_type": "code",
      "source": [
        "from google.colab import drive\n",
        "drive.mount('/content/drive')"
      ],
      "metadata": {
        "id": "o0k6vC-mnQJX",
        "outputId": "2197b4b9-36f6-421d-bdaa-a8c5c5ca50dc",
        "colab": {
          "base_uri": "https://localhost:8080/"
        }
      },
      "execution_count": 1,
      "outputs": [
        {
          "output_type": "stream",
          "name": "stdout",
          "text": [
            "Mounted at /content/drive\n"
          ]
        }
      ]
    },
    {
      "cell_type": "code",
      "source": [
        "import os\n",
        "os.kill(os.getpid(), 9) # This will crash Colab (required, everything will still be intact so dont worry)"
      ],
      "metadata": {
        "id": "p8FI40sFj9tU"
      },
      "execution_count": null,
      "outputs": []
    },
    {
      "cell_type": "markdown",
      "source": [
        "# Preparation"
      ],
      "metadata": {
        "id": "UqEsCGrPnYBf"
      }
    },
    {
      "cell_type": "markdown",
      "source": [
        "Clone webui repository"
      ],
      "metadata": {
        "id": "OHCtG9MT0jLq"
      }
    },
    {
      "cell_type": "code",
      "source": [
        "!git clone https://github.com/AUTOMATIC1111/stable-diffusion-webui\n",
        "%cd stable-diffusion-webui"
      ],
      "metadata": {
        "id": "sBbcB4vwj_jm",
        "colab": {
          "base_uri": "https://localhost:8080/"
        },
        "outputId": "163fd83a-a0af-430a-da05-8b98a719e280"
      },
      "execution_count": 1,
      "outputs": [
        {
          "output_type": "stream",
          "name": "stdout",
          "text": [
            "Cloning into 'stable-diffusion-webui'...\n",
            "remote: Enumerating objects: 4019, done.\u001b[K\n",
            "remote: Counting objects: 100% (277/277), done.\u001b[K\n",
            "remote: Compressing objects: 100% (140/140), done.\u001b[K\n",
            "remote: Total 4019 (delta 173), reused 200 (delta 136), pack-reused 3742\u001b[K\n",
            "Receiving objects: 100% (4019/4019), 20.25 MiB | 9.72 MiB/s, done.\n",
            "Resolving deltas: 100% (2796/2796), done.\n",
            "/content/stable-diffusion-webui\n"
          ]
        }
      ]
    },
    {
      "cell_type": "markdown",
      "source": [
        "Download the model from huggingface. See link at the start for different ways."
      ],
      "metadata": {
        "id": "F0EINk5M0s-w"
      }
    },
    {
      "cell_type": "code",
      "source": [
        "#@title locate model\n",
        "# get a token from https://huggingface.co/settings/tokens\n",
        "'''\n",
        "user_token = \"\" \n",
        "user_header = f\"\\\"Authorization: Bearer {user_token}\\\"\"\n",
        "!wget --header={user_header} https://huggingface.co/CompVis/stable-diffusion-v-1-4-original/resolve/main/sd-v1-4.ckpt -O /content/stable-diffusion-webui/model.ckpt\n",
        "'''\n",
        "model_place = \"/content/drive/MyDrive/sd/models/model-epoch05-float32.ckpt\" #@param {type:\"string\"}\n",
        "!mkdir /content/stable-diffusion-webui/repositories/stable-diffusion/models/ldm/stable-diffusion-v1/\n",
        "!ln -s $model_place /content/stable-diffusion-webui/repositories/stable-diffusion/models/ldm/stable-diffusion-v1/model.ckpt\n",
        "!ln -s $model_place /content/stable-diffusion-webui/models/Stable-diffusion/sd-v1-4.ckpt"
      ],
      "metadata": {
        "id": "CT_J9L7oqLxG",
        "colab": {
          "base_uri": "https://localhost:8080/"
        },
        "outputId": "bc98153f-e95c-42b4-f581-e8a6036d6fae"
      },
      "execution_count": 2,
      "outputs": [
        {
          "output_type": "stream",
          "name": "stdout",
          "text": [
            "mkdir: cannot create directory ‘/content/stable-diffusion-webui/repositories/stable-diffusion/models/ldm/stable-diffusion-v1/’: No such file or directory\n",
            "ln: failed to create symbolic link '/content/stable-diffusion-webui/repositories/stable-diffusion/models/ldm/stable-diffusion-v1/model.ckpt': No such file or directory\n"
          ]
        }
      ]
    },
    {
      "cell_type": "markdown",
      "source": [
        "Voldy doesn't explian what this does but it appears to replace the prior dependencies section, saving a few lines lmao "
      ],
      "metadata": {
        "id": "v2kY0Z05DwIN"
      }
    },
    {
      "cell_type": "code",
      "source": [
        "!COMMANDLINE_ARGS=\"--exit\" REQS_FILE=\"requirements.txt\" python launch.py"
      ],
      "metadata": {
        "colab": {
          "base_uri": "https://localhost:8080/"
        },
        "id": "IB19TzabDtYF",
        "outputId": "d5bd949d-b787-434e-cbea-2233354aa539"
      },
      "execution_count": 3,
      "outputs": [
        {
          "output_type": "stream",
          "name": "stdout",
          "text": [
            "Python 3.7.14 (default, Sep  8 2022, 00:06:44) \n",
            "[GCC 7.5.0]\n",
            "Commit hash: 3f417566b0bda8eab05d247567aebf001c1d1725\n",
            "Installing gfpgan\n",
            "Cloning Stable Diffusion into repositories/stable-diffusion...\n",
            "Cloning Taming Transformers into repositories/taming-transformers...\n",
            "Cloning K-diffusion into repositories/k-diffusion...\n",
            "Cloning CodeFormer into repositories/CodeFormer...\n",
            "Cloning BLIP into repositories/BLIP...\n",
            "Installing requirements for CodeFormer\n",
            "Installing requirements for Web UI\n",
            "Exiting because of --exit argument\n"
          ]
        }
      ]
    },
    {
      "cell_type": "markdown",
      "source": [
        "Change into Web UI directory and download updates"
      ],
      "metadata": {
        "id": "S8nvm5f6AfaL"
      }
    },
    {
      "cell_type": "code",
      "source": [
        "%cd stable-diffusion-webui\n",
        "!git pull"
      ],
      "metadata": {
        "id": "I1j4j2NfAQye",
        "colab": {
          "base_uri": "https://localhost:8080/"
        },
        "outputId": "aaf4a16f-cf00-41b1-9524-80bc694caf95"
      },
      "execution_count": 4,
      "outputs": [
        {
          "output_type": "stream",
          "name": "stdout",
          "text": [
            "[Errno 2] No such file or directory: 'stable-diffusion-webui'\n",
            "/content/stable-diffusion-webui\n",
            "Already up to date.\n"
          ]
        }
      ]
    },
    {
      "cell_type": "markdown",
      "source": [
        "# Execution"
      ],
      "metadata": {
        "id": "Yaq_PbdnnsXy"
      }
    },
    {
      "cell_type": "markdown",
      "source": [
        "Launch web ui. You will get a link to nnn.gradio.app, follow it.\n",
        "\n",
        "Commandline arguments are:\n",
        "  - `--share` - create online gradio.app link\n",
        "  - `--gradio-debug` - print outputs to console\n",
        "  - `--gradio-auth me:qwerty` - add authentication to gradio: username me, password qwerty"
      ],
      "metadata": {
        "id": "xt8lbdmC04ox"
      }
    },
    {
      "cell_type": "code",
      "source": [
        "!COMMANDLINE_ARGS=\"--share --gradio-debug\" REQS_FILE=\"requirements.txt\" python launch.py"
      ],
      "metadata": {
        "id": "R-xAdMA5wxXd",
        "colab": {
          "base_uri": "https://localhost:8080/"
        },
        "outputId": "0d052eff-cf55-4b7a-f0b5-d567b9307a5c"
      },
      "execution_count": 5,
      "outputs": [
        {
          "output_type": "stream",
          "name": "stdout",
          "text": [
            "Python 3.7.14 (default, Sep  8 2022, 00:06:44) \n",
            "[GCC 7.5.0]\n",
            "Commit hash: 3f417566b0bda8eab05d247567aebf001c1d1725\n",
            "Installing requirements for Web UI\n",
            "Launching Web UI with arguments: --share\n",
            "Warning: LDSR not found at path /content/stable-diffusion-webui/repositories/latent-diffusion/LDSR.py\n",
            "LatentDiffusion: Running in eps-prediction mode\n",
            "DiffusionWrapper has 859.52 M params.\n",
            "making attention of type 'vanilla' with 512 in_channels\n",
            "Working with z of shape (1, 4, 32, 32) = 4096 dimensions.\n",
            "making attention of type 'vanilla' with 512 in_channels\n",
            "Downloading: 100% 939k/939k [00:01<00:00, 829kB/s]\n",
            "Downloading: 100% 512k/512k [00:00<00:00, 565kB/s]\n",
            "Downloading: 100% 389/389 [00:00<00:00, 322kB/s]\n",
            "Downloading: 100% 905/905 [00:00<00:00, 726kB/s]\n",
            "Downloading: 100% 4.41k/4.41k [00:00<00:00, 3.49MB/s]\n",
            "Downloading: 100% 1.59G/1.59G [00:25<00:00, 66.6MB/s]\n",
            "Loading weights [3563d59f] from /content/stable-diffusion-webui/models/Stable-diffusion/sd-v1-4.ckpt\n",
            "Global Step: 576705\n",
            "Model loaded.\n",
            "Running on local URL:  http://127.0.0.1:7860\n",
            "Running on public URL: https://20970.gradio.app\n",
            "\n",
            "This share link expires in 72 hours. For free permanent hosting, check out Spaces: https://huggingface.co/spaces\n",
            "\n",
            "txt2img: baroque oil painting japanese light novel cover illustration of cute young elf girl, mixture between british and russian, sheer silk robe, perfect symmetrical face, Platinum blonde long hairstyle, cleavage breasts, by greg rutkowski makoto shinkai takashi takeuchi, golden hour, strong rim light, glitter many particle, intense shadows, artstation, smooth, soft focus.\n",
            "Loaded a total of 0 textual inversion embeddings.\n",
            "  0% 0/20 [00:00<?, ?it/s]\n",
            "  5% 1/20 [00:04<01:20,  4.25s/it]\n",
            " 10% 2/20 [00:04<00:35,  1.97s/it]\n",
            " 15% 3/20 [00:04<00:21,  1.24s/it]\n",
            " 20% 4/20 [00:05<00:14,  1.11it/s]\n",
            " 25% 5/20 [00:05<00:10,  1.41it/s]\n",
            " 30% 6/20 [00:06<00:08,  1.69it/s]\n",
            " 35% 7/20 [00:06<00:06,  1.92it/s]\n",
            " 40% 8/20 [00:06<00:05,  2.12it/s]\n",
            " 45% 9/20 [00:07<00:04,  2.27it/s]\n",
            " 50% 10/20 [00:07<00:04,  2.39it/s]\n",
            " 55% 11/20 [00:07<00:03,  2.47it/s]\n",
            " 60% 12/20 [00:08<00:03,  2.53it/s]\n",
            " 65% 13/20 [00:08<00:02,  2.58it/s]\n",
            " 70% 14/20 [00:09<00:02,  2.61it/s]\n",
            " 75% 15/20 [00:09<00:01,  2.63it/s]\n",
            " 80% 16/20 [00:09<00:01,  2.65it/s]\n",
            " 85% 17/20 [00:10<00:01,  2.66it/s]\n",
            " 90% 18/20 [00:10<00:00,  2.67it/s]\n",
            " 95% 19/20 [00:10<00:00,  2.68it/s]\n",
            "100% 20/20 [00:11<00:00,  1.77it/s]\n",
            "Total progress: 100% 20/20 [00:08<00:00,  2.47it/s]\n",
            "\n",
            "txt2img: detailed wallpaper like pencil drawing of pretty girl blonde wavy hairstyle, wearing sheer baroque dress with elegant frills, white glowing skin, jewelry eyes with elegant eyelashes, perfect symmetrical face with blush cheeks, cleavage breasts and thigh by ilya kuvshinov and alphonse mucha, golden hour lighting, strong rim light, splash particles, intense shadows, by Canon EOS, SIGMA Art Lens\n",
            "  0% 0/20 [00:00<?, ?it/s]\n",
            "  5% 1/20 [00:00<00:11,  1.70it/s]\n",
            " 10% 2/20 [00:01<00:10,  1.78it/s]\n",
            " 15% 3/20 [00:01<00:09,  1.80it/s]\n",
            " 20% 4/20 [00:02<00:08,  1.81it/s]\n",
            " 25% 5/20 [00:02<00:08,  1.82it/s]\n",
            " 30% 6/20 [00:03<00:07,  1.82it/s]\n",
            " 35% 7/20 [00:03<00:07,  1.82it/s]\n",
            " 40% 8/20 [00:04<00:06,  1.82it/s]\n",
            " 45% 9/20 [00:04<00:06,  1.82it/s]\n",
            " 50% 10/20 [00:05<00:05,  1.82it/s]\n",
            " 55% 11/20 [00:06<00:04,  1.82it/s]\n",
            " 60% 12/20 [00:06<00:04,  1.82it/s]\n",
            " 65% 13/20 [00:07<00:03,  1.82it/s]\n",
            " 70% 14/20 [00:07<00:03,  1.82it/s]\n",
            " 75% 15/20 [00:08<00:02,  1.82it/s]\n",
            " 80% 16/20 [00:08<00:02,  1.82it/s]\n",
            " 85% 17/20 [00:09<00:01,  1.82it/s]\n",
            " 90% 18/20 [00:09<00:01,  1.82it/s]\n",
            " 95% 19/20 [00:10<00:00,  1.82it/s]\n",
            "100% 20/20 [00:11<00:00,  1.82it/s]\n",
            "Total progress: 100% 20/20 [00:11<00:00,  1.69it/s]\n",
            "\n",
            "txt2img: idolmaster_cinderella_girls, Excellent professional portrait, beautiful sexy bishoujo, 1girl, highres, wearing elaborately embroidered dress with fluttery frills and aesthetic lace, perfect symmetrical pretty face with pretty lively eyes and white marble glowing skin, blush cheeks, cleavage!!!!! , backlighting bokeh on the palace with blue flowers, ultra HQ\n",
            "X/Y plot will create 2 images on a 2x1 grid. (Total steps to process: 40)\n",
            "\n",
            "Total progress: 0it [00:00, ?it/s]\u001b[AError completing request\n",
            "Arguments: ('idolmaster_cinderella_girls, Excellent professional portrait, beautiful sexy bishoujo, 1girl, highres, wearing elaborately embroidered dress with fluttery frills and aesthetic lace, perfect symmetrical pretty face with pretty lively eyes and white marble glowing skin, blush cheeks, cleavage!!!!! , backlighting bokeh on the palace with blue flowers, ultra HQ', '', 'None', 'None', 20, 0, False, False, 1, 3, 7, -1.0, -1.0, 0, 0, 0, False, 512, 512, False, False, 0.7, 3, False, False, None, '', 7, 'Eular a, Heun', 0, '', True, False) {}\n",
            "Traceback (most recent call last):\n",
            "  File \"/content/stable-diffusion-webui/modules/ui.py\", line 153, in f\n",
            "    res = list(func(*args, **kwargs))\n",
            "  File \"/content/stable-diffusion-webui/webui.py\", line 63, in f\n",
            "    res = func(*args, **kwargs)\n",
            "  File \"/content/stable-diffusion-webui/modules/txt2img.py\", line 38, in txt2img\n",
            "    processed = modules.scripts.scripts_txt2img.run(p, *args)\n",
            "  File \"/content/stable-diffusion-webui/modules/scripts.py\", line 159, in run\n",
            "    processed = script.run(p, *script_args)\n",
            "  File \"/content/stable-diffusion-webui/scripts/xy_grid.py\", line 254, in run\n",
            "    draw_legend=draw_legend\n",
            "  File \"/content/stable-diffusion-webui/scripts/xy_grid.py\", line 110, in draw_xy_grid\n",
            "    processed = cell(x, y)\n",
            "  File \"/content/stable-diffusion-webui/scripts/xy_grid.py\", line 242, in cell\n",
            "    x_opt.apply(pc, x, xs)\n",
            "  File \"/content/stable-diffusion-webui/scripts/xy_grid.py\", line 42, in apply_sampler\n",
            "    raise RuntimeError(f\"Unknown sampler: {x}\")\n",
            "RuntimeError: Unknown sampler: Eular a\n",
            "\n",
            "\n",
            "txt2img: idolmaster_cinderella_girls, Excellent professional portrait, beautiful sexy bishoujo, 1girl, highres, wearing elaborately embroidered dress with fluttery frills and aesthetic lace, perfect symmetrical pretty face with pretty lively eyes and white marble glowing skin, blush cheeks, cleavage!!!!! , backlighting bokeh on the palace with blue flowers, ultra HQ\n",
            "X/Y plot will create 6 images on a 2x1 grid. (Total steps to process: 120)\n",
            "Error completing request\n",
            "Arguments: ('idolmaster_cinderella_girls, Excellent professional portrait, beautiful sexy bishoujo, 1girl, highres, wearing elaborately embroidered dress with fluttery frills and aesthetic lace, perfect symmetrical pretty face with pretty lively eyes and white marble glowing skin, blush cheeks, cleavage!!!!! , backlighting bokeh on the palace with blue flowers, ultra HQ', '', 'None', 'None', 20, 0, False, False, 3, 1, 7, -1.0, -1.0, 0, 0, 0, False, 512, 512, False, False, 0.7, 3, False, False, None, '', 7, 'Eular_a, Heun', 0, '', True, False) {}\n",
            "Traceback (most recent call last):\n",
            "  File \"/content/stable-diffusion-webui/modules/ui.py\", line 153, in f\n",
            "    res = list(func(*args, **kwargs))\n",
            "  File \"/content/stable-diffusion-webui/webui.py\", line 63, in f\n",
            "    res = func(*args, **kwargs)\n",
            "  File \"/content/stable-diffusion-webui/modules/txt2img.py\", line 38, in txt2img\n",
            "    processed = modules.scripts.scripts_txt2img.run(p, *args)\n",
            "  File \"/content/stable-diffusion-webui/modules/scripts.py\", line 159, in run\n",
            "    processed = script.run(p, *script_args)\n",
            "  File \"/content/stable-diffusion-webui/scripts/xy_grid.py\", line 254, in run\n",
            "    draw_legend=draw_legend\n",
            "  File \"/content/stable-diffusion-webui/scripts/xy_grid.py\", line 110, in draw_xy_grid\n",
            "    processed = cell(x, y)\n",
            "  File \"/content/stable-diffusion-webui/scripts/xy_grid.py\", line 242, in cell\n",
            "    x_opt.apply(pc, x, xs)\n",
            "  File \"/content/stable-diffusion-webui/scripts/xy_grid.py\", line 42, in apply_sampler\n",
            "    raise RuntimeError(f\"Unknown sampler: {x}\")\n",
            "RuntimeError: Unknown sampler: Eular_a\n",
            "\n",
            "\n",
            "txt2img: idolmaster_cinderella_girls, Excellent professional portrait, beautiful sexy bishoujo, 1girl, highres, wearing elaborately embroidered dress with fluttery frills and aesthetic lace, perfect symmetrical pretty face with pretty lively eyes and white marble glowing skin, blush cheeks, cleavage!!!!! , backlighting bokeh on the palace with blue flowers, ultra HQ\n",
            "X/Y plot will create 6 images on a 2x1 grid. (Total steps to process: 120)\n",
            "Batch 1 out of 3:   0% 0/20 [00:00<?, ?it/s]\n",
            "Batch 1 out of 3:   5% 1/20 [00:00<00:05,  3.74it/s]\n",
            "Batch 1 out of 3:  10% 2/20 [00:00<00:04,  4.41it/s]\n",
            "Batch 1 out of 3:  15% 3/20 [00:00<00:03,  4.66it/s]\n",
            "Batch 1 out of 3:  20% 4/20 [00:00<00:03,  4.79it/s]\n",
            "Batch 1 out of 3:  25% 5/20 [00:01<00:03,  4.87it/s]\n",
            "Batch 1 out of 3:  30% 6/20 [00:01<00:02,  4.85it/s]\n",
            "Batch 1 out of 3:  35% 7/20 [00:01<00:02,  4.89it/s]\n",
            "Batch 1 out of 3:  40% 8/20 [00:01<00:02,  4.92it/s]\n",
            "Batch 1 out of 3:  45% 9/20 [00:01<00:02,  4.95it/s]\n",
            "Batch 1 out of 3:  50% 10/20 [00:02<00:02,  4.96it/s]\n",
            "Batch 1 out of 3:  55% 11/20 [00:02<00:01,  4.95it/s]\n",
            "Batch 1 out of 3:  60% 12/20 [00:02<00:01,  4.96it/s]\n",
            "Batch 1 out of 3:  65% 13/20 [00:02<00:01,  4.98it/s]\n",
            "Batch 1 out of 3:  70% 14/20 [00:02<00:01,  4.99it/s]\n",
            "Batch 1 out of 3:  75% 15/20 [00:03<00:01,  4.96it/s]\n",
            "Batch 1 out of 3:  80% 16/20 [00:03<00:00,  4.95it/s]\n",
            "Batch 1 out of 3:  85% 17/20 [00:03<00:00,  4.97it/s]\n",
            "Batch 1 out of 3:  90% 18/20 [00:03<00:00,  4.97it/s]\n",
            "Batch 1 out of 3:  95% 19/20 [00:03<00:00,  4.97it/s]\n",
            "Batch 1 out of 3: 100% 20/20 [00:04<00:00,  4.89it/s]\n",
            "Batch 2 out of 3:   0% 0/20 [00:00<?, ?it/s]\n",
            "Batch 2 out of 3:   5% 1/20 [00:00<00:03,  5.06it/s]\n",
            "Batch 2 out of 3:  10% 2/20 [00:00<00:03,  5.01it/s]\n",
            "Batch 2 out of 3:  15% 3/20 [00:00<00:03,  5.02it/s]\n",
            "Batch 2 out of 3:  20% 4/20 [00:00<00:03,  5.00it/s]\n",
            "Batch 2 out of 3:  25% 5/20 [00:01<00:03,  4.90it/s]\n",
            "Batch 2 out of 3:  30% 6/20 [00:01<00:02,  4.93it/s]\n",
            "Batch 2 out of 3:  35% 7/20 [00:01<00:02,  4.96it/s]\n",
            "Batch 2 out of 3:  40% 8/20 [00:01<00:02,  4.97it/s]\n",
            "Batch 2 out of 3:  45% 9/20 [00:01<00:02,  4.97it/s]\n",
            "Batch 2 out of 3:  50% 10/20 [00:02<00:02,  4.93it/s]\n",
            "Batch 2 out of 3:  55% 11/20 [00:02<00:01,  4.94it/s]\n",
            "Batch 2 out of 3:  60% 12/20 [00:02<00:01,  4.95it/s]\n",
            "Batch 2 out of 3:  65% 13/20 [00:02<00:01,  4.96it/s]\n",
            "Batch 2 out of 3:  70% 14/20 [00:02<00:01,  4.94it/s]\n",
            "Batch 2 out of 3:  75% 15/20 [00:03<00:01,  4.93it/s]\n",
            "Batch 2 out of 3:  80% 16/20 [00:03<00:00,  4.95it/s]\n",
            "Batch 2 out of 3:  85% 17/20 [00:03<00:00,  4.95it/s]\n",
            "Batch 2 out of 3:  90% 18/20 [00:03<00:00,  4.95it/s]\n",
            "Batch 2 out of 3:  95% 19/20 [00:03<00:00,  4.93it/s]\n",
            "Batch 2 out of 3: 100% 20/20 [00:04<00:00,  4.95it/s]\n",
            "Batch 3 out of 3:   0% 0/20 [00:00<?, ?it/s]\n",
            "Batch 3 out of 3:   5% 1/20 [00:00<00:03,  5.07it/s]\n",
            "Batch 3 out of 3:  10% 2/20 [00:00<00:03,  5.02it/s]\n",
            "Batch 3 out of 3:  15% 3/20 [00:00<00:03,  5.03it/s]\n",
            "Batch 3 out of 3:  20% 4/20 [00:00<00:03,  4.99it/s]\n",
            "Batch 3 out of 3:  25% 5/20 [00:01<00:03,  4.87it/s]\n",
            "Batch 3 out of 3:  30% 6/20 [00:01<00:02,  4.89it/s]\n",
            "Batch 3 out of 3:  35% 7/20 [00:01<00:02,  4.93it/s]\n",
            "Batch 3 out of 3:  40% 8/20 [00:01<00:02,  4.94it/s]\n",
            "Batch 3 out of 3:  45% 9/20 [00:01<00:02,  4.95it/s]\n",
            "Batch 3 out of 3:  50% 10/20 [00:02<00:02,  4.92it/s]\n",
            "Batch 3 out of 3:  55% 11/20 [00:02<00:01,  4.92it/s]\n",
            "Batch 3 out of 3:  60% 12/20 [00:02<00:01,  4.93it/s]\n",
            "Batch 3 out of 3:  65% 13/20 [00:02<00:01,  4.94it/s]\n",
            "Batch 3 out of 3:  70% 14/20 [00:02<00:01,  4.94it/s]\n",
            "Batch 3 out of 3:  75% 15/20 [00:03<00:01,  4.93it/s]\n",
            "Batch 3 out of 3:  80% 16/20 [00:03<00:00,  4.92it/s]\n",
            "Batch 3 out of 3:  85% 17/20 [00:03<00:00,  4.93it/s]\n",
            "Batch 3 out of 3:  90% 18/20 [00:03<00:00,  4.92it/s]\n",
            "Batch 3 out of 3:  95% 19/20 [00:03<00:00,  4.93it/s]\n",
            "Batch 3 out of 3: 100% 20/20 [00:04<00:00,  4.93it/s]\n",
            "Batch 1 out of 3:   0% 0/20 [00:00<?, ?it/s]\n",
            "Batch 1 out of 3:   5% 1/20 [00:00<00:05,  3.54it/s]\n",
            "Batch 1 out of 3:  10% 2/20 [00:00<00:06,  2.83it/s]\n",
            "Batch 1 out of 3:  15% 3/20 [00:01<00:06,  2.63it/s]\n",
            "Batch 1 out of 3:  20% 4/20 [00:01<00:06,  2.57it/s]\n",
            "Batch 1 out of 3:  25% 5/20 [00:01<00:05,  2.53it/s]\n",
            "Batch 1 out of 3:  30% 6/20 [00:02<00:05,  2.51it/s]\n",
            "Batch 1 out of 3:  35% 7/20 [00:02<00:05,  2.50it/s]\n",
            "Batch 1 out of 3:  40% 8/20 [00:03<00:04,  2.48it/s]\n",
            "Batch 1 out of 3:  45% 9/20 [00:03<00:04,  2.48it/s]\n",
            "Batch 1 out of 3:  50% 10/20 [00:03<00:04,  2.47it/s]\n",
            "Batch 1 out of 3:  55% 11/20 [00:04<00:03,  2.47it/s]\n",
            "Batch 1 out of 3:  60% 12/20 [00:04<00:03,  2.47it/s]\n",
            "Batch 1 out of 3:  65% 13/20 [00:05<00:02,  2.47it/s]\n",
            "Batch 1 out of 3:  70% 14/20 [00:05<00:02,  2.47it/s]\n",
            "Batch 1 out of 3:  75% 15/20 [00:05<00:02,  2.47it/s]\n",
            "Batch 1 out of 3:  80% 16/20 [00:06<00:01,  2.47it/s]\n",
            "Batch 1 out of 3:  85% 17/20 [00:06<00:01,  2.47it/s]\n",
            "Batch 1 out of 3:  90% 18/20 [00:07<00:00,  2.47it/s]\n",
            "Batch 1 out of 3:  95% 19/20 [00:07<00:00,  2.46it/s]\n",
            "Batch 1 out of 3: 100% 20/20 [00:07<00:00,  2.53it/s]\n",
            "Batch 2 out of 3:   0% 0/20 [00:00<?, ?it/s]\n",
            "Batch 2 out of 3:   5% 1/20 [00:00<00:05,  3.53it/s]\n",
            "Batch 2 out of 3:  10% 2/20 [00:00<00:06,  2.81it/s]\n",
            "Batch 2 out of 3:  15% 3/20 [00:01<00:06,  2.60it/s]\n",
            "Batch 2 out of 3:  20% 4/20 [00:01<00:06,  2.53it/s]\n",
            "Batch 2 out of 3:  25% 5/20 [00:01<00:06,  2.50it/s]\n",
            "Batch 2 out of 3:  30% 6/20 [00:02<00:05,  2.48it/s]\n",
            "Batch 2 out of 3:  35% 7/20 [00:02<00:05,  2.48it/s]\n",
            "Batch 2 out of 3:  40% 8/20 [00:03<00:04,  2.47it/s]\n",
            "Batch 2 out of 3:  45% 9/20 [00:03<00:04,  2.47it/s]\n",
            "Batch 2 out of 3:  50% 10/20 [00:03<00:04,  2.47it/s]\n",
            "Batch 2 out of 3:  55% 11/20 [00:04<00:03,  2.46it/s]\n",
            "Batch 2 out of 3:  60% 12/20 [00:04<00:03,  2.45it/s]\n",
            "Batch 2 out of 3:  65% 13/20 [00:05<00:02,  2.45it/s]\n",
            "Batch 2 out of 3:  70% 14/20 [00:05<00:02,  2.44it/s]\n",
            "Batch 2 out of 3:  75% 15/20 [00:06<00:02,  2.45it/s]\n",
            "Batch 2 out of 3:  80% 16/20 [00:06<00:01,  2.44it/s]\n",
            "Batch 2 out of 3:  85% 17/20 [00:06<00:01,  2.44it/s]\n",
            "Batch 2 out of 3:  90% 18/20 [00:07<00:00,  2.44it/s]\n",
            "Batch 2 out of 3:  95% 19/20 [00:07<00:00,  2.44it/s]\n",
            "Batch 2 out of 3: 100% 20/20 [00:07<00:00,  2.51it/s]\n",
            "Batch 3 out of 3:   0% 0/20 [00:00<?, ?it/s]\n",
            "Batch 3 out of 3:   5% 1/20 [00:00<00:05,  3.49it/s]\n",
            "Batch 3 out of 3:  10% 2/20 [00:00<00:06,  2.81it/s]\n",
            "Batch 3 out of 3:  15% 3/20 [00:01<00:06,  2.57it/s]\n",
            "Batch 3 out of 3:  20% 4/20 [00:01<00:06,  2.53it/s]\n",
            "Batch 3 out of 3:  25% 5/20 [00:01<00:06,  2.49it/s]\n",
            "Batch 3 out of 3:  30% 6/20 [00:02<00:05,  2.46it/s]\n",
            "Batch 3 out of 3:  35% 7/20 [00:02<00:05,  2.46it/s]\n",
            "Batch 3 out of 3:  40% 8/20 [00:03<00:04,  2.44it/s]\n",
            "Batch 3 out of 3:  45% 9/20 [00:03<00:04,  2.44it/s]\n",
            "Batch 3 out of 3:  50% 10/20 [00:04<00:04,  2.43it/s]\n",
            "Batch 3 out of 3:  55% 11/20 [00:04<00:03,  2.42it/s]\n",
            "Batch 3 out of 3:  60% 12/20 [00:04<00:03,  2.42it/s]\n",
            "Batch 3 out of 3:  65% 13/20 [00:05<00:02,  2.42it/s]\n",
            "Batch 3 out of 3:  70% 14/20 [00:05<00:02,  2.42it/s]\n",
            "Batch 3 out of 3:  75% 15/20 [00:06<00:02,  2.42it/s]\n",
            "Batch 3 out of 3:  80% 16/20 [00:06<00:01,  2.42it/s]\n",
            "Batch 3 out of 3:  85% 17/20 [00:06<00:01,  2.42it/s]\n",
            "Batch 3 out of 3:  90% 18/20 [00:07<00:00,  2.42it/s]\n",
            "Batch 3 out of 3:  95% 19/20 [00:07<00:00,  2.42it/s]\n",
            "Batch 3 out of 3: 100% 20/20 [00:08<00:00,  2.48it/s]\n",
            "Total progress: 100% 120/120 [02:43<00:00,  1.36s/it]\n",
            "Interrupted with signal 2 in <frame at 0x7f574ca67410, file '/usr/local/lib/python3.7/dist-packages/gradio/blocks.py', line 1238, code block_thread>\n"
          ]
        }
      ]
    },
    {
      "cell_type": "markdown",
      "source": [
        "commands for ***after*** you have gotten done with a session\n",
        "============================================================================"
      ],
      "metadata": {
        "id": "9qrpRUJpno7L"
      }
    },
    {
      "cell_type": "markdown",
      "source": [
        "Zip images for downloading on local drive (click the folder icon on the left, the one below {x})"
      ],
      "metadata": {
        "id": "zB-L8JpElKp-"
      }
    },
    {
      "cell_type": "code",
      "source": [
        "!zip -r /content/stable-diffusion-webui /content/stable-diffusion-webui/outputs "
      ],
      "metadata": {
        "id": "gBt5g_Dn0NFo"
      },
      "execution_count": null,
      "outputs": []
    },
    {
      "cell_type": "markdown",
      "source": [
        "Save images to Google Drive **Warning: this will cause google to scan your drive, so if you intend to use this and worry about that kind of stuff, probablly just set this up on a clean account that's just for this colab**"
      ],
      "metadata": {
        "id": "odNn2KF5lFmb"
      }
    },
    {
      "cell_type": "code",
      "source": [
        "from google.colab import drive # type: ignore\n",
        "\n",
        "try:\n",
        "   drive_path = \"/content/drive\"\n",
        "   drive.mount(drive_path,force_remount=False)\n",
        "except:\n",
        "   print(\"...error mounting drive or with drive path variables\")\n",
        "\n",
        "!cp -r \"/content/stable-diffusion-webui/outputs\" \"/content/drive/MyDrive\""
      ],
      "metadata": {
        "id": "zNEgJfbhDwI6"
      },
      "execution_count": null,
      "outputs": []
    }
  ]
}